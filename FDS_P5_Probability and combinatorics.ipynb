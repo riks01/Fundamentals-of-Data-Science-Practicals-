{
 "cells": [
  {
   "cell_type": "markdown",
   "id": "9b7ed874",
   "metadata": {},
   "source": [
    "# Probability"
   ]
  },
  {
   "cell_type": "code",
   "execution_count": 1,
   "id": "e557fa46",
   "metadata": {},
   "outputs": [
    {
     "name": "stdout",
     "output_type": "stream",
     "text": [
      "probability of getting 3 is:  0.16666666666666666\n"
     ]
    }
   ],
   "source": [
    "# probability of getting 3 when a die is rolled\n",
    "ns = 6 \n",
    "na = 1\n",
    "pa = na/ns\n",
    "print(\"probability of getting 3 is: \", pa)"
   ]
  },
  {
   "cell_type": "markdown",
   "id": "86d26b50",
   "metadata": {},
   "source": [
    "# probability of alteast getting one head when a coin is tossed thrice\n"
   ]
  },
  {
   "cell_type": "code",
   "execution_count": 2,
   "id": "30d2a9cd",
   "metadata": {},
   "outputs": [
    {
     "name": "stdout",
     "output_type": "stream",
     "text": [
      "probability of getting atleast one head is :  0.875\n"
     ]
    }
   ],
   "source": [
    "ns = 8\n",
    "na = 7\n",
    "pa = na/ns\n",
    "print(\"probability of getting atleast one head is : \", pa)"
   ]
  },
  {
   "cell_type": "code",
   "execution_count": 3,
   "id": "f64d34f3",
   "metadata": {},
   "outputs": [
    {
     "name": "stdout",
     "output_type": "stream",
     "text": [
      "probability of getting not blue jellybean is :  0.7\n"
     ]
    }
   ],
   "source": [
    "# A glass jar contains 5 red, 3 blue and 2 green jelly\n",
    "# beans.  If a jelly bean is chosen at random from the jar,\n",
    "# what is the probability that it is not blue?\n",
    "\n",
    "ns = 10\n",
    "na = 7\n",
    "pa = na/ns\n",
    "print(\"probability of getting not blue jellybean is : \", pa)"
   ]
  },
  {
   "cell_type": "markdown",
   "id": "bf79db5f",
   "metadata": {},
   "source": [
    "# Independent and Dependent Events\n"
   ]
  },
  {
   "cell_type": "code",
   "execution_count": 5,
   "id": "f1034984",
   "metadata": {},
   "outputs": [
    {
     "name": "stdout",
     "output_type": "stream",
     "text": [
      "probability that they will be alive after 20 years:  0.35\n"
     ]
    }
   ],
   "source": [
    "# If the probability that person A will be alive in 20 years and the probability that person B will be alive in 20 years\n",
    "# is 0.5, what is the probability that they will both be alive in 20 years\n",
    "p = 0.7 * 0.5\n",
    "print(\"probability that they will be alive after 20 years: \", p)"
   ]
  },
  {
   "cell_type": "code",
   "execution_count": 6,
   "id": "032f5b76",
   "metadata": {},
   "outputs": [],
   "source": [
    "def event_probability(n,s):\n",
    "    return n/s"
   ]
  },
  {
   "cell_type": "code",
   "execution_count": 7,
   "id": "b6c51209",
   "metadata": {},
   "outputs": [
    {
     "name": "stdout",
     "output_type": "stream",
     "text": [
      "probability of getting a 4 or 5 on the first toss and a 1, 2, or 3 in the second toss:  0.16666666666666666\n"
     ]
    }
   ],
   "source": [
    "# A fair die is tossed twice. Find the probaility of getting a 4 or 5 on the first toss and a 1, 2, or 3 in the second toss\n",
    "pa = event_probability(2,6)\n",
    "pb = event_probability(3,6)\n",
    "p = pa * pb\n",
    "print(\"probability of getting a 4 or 5 on the first toss and a 1, 2, or 3 in the second toss: \", p)"
   ]
  },
  {
   "cell_type": "code",
   "execution_count": 8,
   "id": "f4a3d177",
   "metadata": {},
   "outputs": [
    {
     "name": "stdout",
     "output_type": "stream",
     "text": [
      "Probability of obtaining white, black and green in that order:  0.041666666666666664\n"
     ]
    }
   ],
   "source": [
    "# A bag contains 5 white marbles, 3 black marbles and # 2 green marbles. In each draw, a marble is drawn from\n",
    "# the bag and not repeated. In three draws, find the # Probability of obtaining white, black and green in that order.\n",
    "pw = event_probability(5, 10)\n",
    "pb = event_probability(3, 9)\n",
    "pg = event_probability(2, 8)\n",
    "print(\"Probability of obtaining white, black and green in that order: \", pw*pb*pg)"
   ]
  },
  {
   "cell_type": "code",
   "execution_count": 10,
   "id": "f996f6e3",
   "metadata": {},
   "outputs": [
    {
     "name": "stdout",
     "output_type": "stream",
     "text": [
      "0.5\n"
     ]
    }
   ],
   "source": [
    "# Sample space\n",
    "cards = 52\n",
    "\n",
    "# Calculate the probability of drawing a heart or a club\n",
    "hearts = 13\n",
    "clubs = 13\n",
    "heart_or_club = event_probability(hearts, cards) + event_probability(clubs, cards)\n",
    "print(heart_or_club)"
   ]
  },
  {
   "cell_type": "code",
   "execution_count": 13,
   "id": "a47085f4",
   "metadata": {},
   "outputs": [
    {
     "name": "stdout",
     "output_type": "stream",
     "text": [
      "0.23076923076923078\n"
     ]
    }
   ],
   "source": [
    "# Calculate the probability of drawing an ace, king or a queen\n",
    "cards = 52\n",
    "aces = 4\n",
    "kings  = 4\n",
    "queens = 4\n",
    "ace_king_or_queen = event_probability(aces, cards) + event_probability(kings, cards) + event_probability(queens, cards)\n",
    "print(ace_king_or_queen)"
   ]
  },
  {
   "cell_type": "code",
   "execution_count": 14,
   "id": "b370aaaf",
   "metadata": {},
   "outputs": [
    {
     "name": "stdout",
     "output_type": "stream",
     "text": [
      "0.3\n"
     ]
    }
   ],
   "source": [
    "# Calculate the probability of drawing a heart or an ace\n",
    "hearts = 13\n",
    "aces = 4\n",
    "ace_of_hearts = 1\n",
    "heart_or_ace = event_probability(hearts, cards) + event_probability(aces, cards) - event_probability(ace_of_hearts, cards)\n",
    "print(round(heart_or_ace, 1))"
   ]
  },
  {
   "cell_type": "code",
   "execution_count": 15,
   "id": "17a2efdd",
   "metadata": {},
   "outputs": [
    {
     "name": "stdout",
     "output_type": "stream",
     "text": [
      "0.6\n"
     ]
    }
   ],
   "source": [
    "# Calculate the probability of drawing red cards or a face cards\n",
    "red_cards = 26\n",
    "face_cards = 12\n",
    "red_face_cards = 6\n",
    "red_or_face = event_probability(red_cards, cards) + event_probability(face_cards, cards) - event_probability(red_face_cards, cards)\n",
    "print(round(red_or_face, 1))"
   ]
  },
  {
   "cell_type": "markdown",
   "id": "d3a85838",
   "metadata": {},
   "source": [
    "# Complement of the events\n"
   ]
  },
  {
   "cell_type": "code",
   "execution_count": 17,
   "id": "fa9f5dea",
   "metadata": {},
   "outputs": [
    {
     "name": "stdout",
     "output_type": "stream",
     "text": [
      "probability of not getting 5 is :  0.8333333333333334\n"
     ]
    }
   ],
   "source": [
    "# probability of not getting 5 when a fair die is rolled\n",
    "ns = 6\n",
    "na = 1\n",
    "pa = na / ns\n",
    "print(\"probability of not getting 5 is : \", 1 - pa)"
   ]
  },
  {
   "cell_type": "code",
   "execution_count": 18,
   "id": "05c156cd",
   "metadata": {},
   "outputs": [],
   "source": [
    "# Conditional probability\n",
    "import pandas as pd\n",
    "import numpy as np\n",
    "df = pd.read_csv(\"student-mat.csv\")\n"
   ]
  },
  {
   "cell_type": "code",
   "execution_count": 19,
   "id": "efebdb76",
   "metadata": {},
   "outputs": [
    {
     "data": {
      "text/html": [
       "<div>\n",
       "<style scoped>\n",
       "    .dataframe tbody tr th:only-of-type {\n",
       "        vertical-align: middle;\n",
       "    }\n",
       "\n",
       "    .dataframe tbody tr th {\n",
       "        vertical-align: top;\n",
       "    }\n",
       "\n",
       "    .dataframe thead th {\n",
       "        text-align: right;\n",
       "    }\n",
       "</style>\n",
       "<table border=\"1\" class=\"dataframe\">\n",
       "  <thead>\n",
       "    <tr style=\"text-align: right;\">\n",
       "      <th></th>\n",
       "      <th>school</th>\n",
       "      <th>sex</th>\n",
       "      <th>age</th>\n",
       "      <th>address</th>\n",
       "      <th>famsize</th>\n",
       "      <th>Pstatus</th>\n",
       "      <th>Medu</th>\n",
       "      <th>Fedu</th>\n",
       "      <th>Mjob</th>\n",
       "      <th>Fjob</th>\n",
       "      <th>...</th>\n",
       "      <th>famrel</th>\n",
       "      <th>freetime</th>\n",
       "      <th>goout</th>\n",
       "      <th>Dalc</th>\n",
       "      <th>Walc</th>\n",
       "      <th>health</th>\n",
       "      <th>absences</th>\n",
       "      <th>G1</th>\n",
       "      <th>G2</th>\n",
       "      <th>G3</th>\n",
       "    </tr>\n",
       "  </thead>\n",
       "  <tbody>\n",
       "    <tr>\n",
       "      <th>0</th>\n",
       "      <td>GP</td>\n",
       "      <td>F</td>\n",
       "      <td>18</td>\n",
       "      <td>U</td>\n",
       "      <td>GT3</td>\n",
       "      <td>A</td>\n",
       "      <td>4</td>\n",
       "      <td>4</td>\n",
       "      <td>at_home</td>\n",
       "      <td>teacher</td>\n",
       "      <td>...</td>\n",
       "      <td>4</td>\n",
       "      <td>3</td>\n",
       "      <td>4</td>\n",
       "      <td>1</td>\n",
       "      <td>1</td>\n",
       "      <td>3</td>\n",
       "      <td>6</td>\n",
       "      <td>5</td>\n",
       "      <td>6</td>\n",
       "      <td>6</td>\n",
       "    </tr>\n",
       "    <tr>\n",
       "      <th>1</th>\n",
       "      <td>GP</td>\n",
       "      <td>F</td>\n",
       "      <td>17</td>\n",
       "      <td>U</td>\n",
       "      <td>GT3</td>\n",
       "      <td>T</td>\n",
       "      <td>1</td>\n",
       "      <td>1</td>\n",
       "      <td>at_home</td>\n",
       "      <td>other</td>\n",
       "      <td>...</td>\n",
       "      <td>5</td>\n",
       "      <td>3</td>\n",
       "      <td>3</td>\n",
       "      <td>1</td>\n",
       "      <td>1</td>\n",
       "      <td>3</td>\n",
       "      <td>4</td>\n",
       "      <td>5</td>\n",
       "      <td>5</td>\n",
       "      <td>6</td>\n",
       "    </tr>\n",
       "    <tr>\n",
       "      <th>2</th>\n",
       "      <td>GP</td>\n",
       "      <td>F</td>\n",
       "      <td>15</td>\n",
       "      <td>U</td>\n",
       "      <td>LE3</td>\n",
       "      <td>T</td>\n",
       "      <td>1</td>\n",
       "      <td>1</td>\n",
       "      <td>at_home</td>\n",
       "      <td>other</td>\n",
       "      <td>...</td>\n",
       "      <td>4</td>\n",
       "      <td>3</td>\n",
       "      <td>2</td>\n",
       "      <td>2</td>\n",
       "      <td>3</td>\n",
       "      <td>3</td>\n",
       "      <td>10</td>\n",
       "      <td>7</td>\n",
       "      <td>8</td>\n",
       "      <td>10</td>\n",
       "    </tr>\n",
       "    <tr>\n",
       "      <th>3</th>\n",
       "      <td>GP</td>\n",
       "      <td>F</td>\n",
       "      <td>15</td>\n",
       "      <td>U</td>\n",
       "      <td>GT3</td>\n",
       "      <td>T</td>\n",
       "      <td>4</td>\n",
       "      <td>2</td>\n",
       "      <td>health</td>\n",
       "      <td>services</td>\n",
       "      <td>...</td>\n",
       "      <td>3</td>\n",
       "      <td>2</td>\n",
       "      <td>2</td>\n",
       "      <td>1</td>\n",
       "      <td>1</td>\n",
       "      <td>5</td>\n",
       "      <td>2</td>\n",
       "      <td>15</td>\n",
       "      <td>14</td>\n",
       "      <td>15</td>\n",
       "    </tr>\n",
       "    <tr>\n",
       "      <th>4</th>\n",
       "      <td>GP</td>\n",
       "      <td>F</td>\n",
       "      <td>16</td>\n",
       "      <td>U</td>\n",
       "      <td>GT3</td>\n",
       "      <td>T</td>\n",
       "      <td>3</td>\n",
       "      <td>3</td>\n",
       "      <td>other</td>\n",
       "      <td>other</td>\n",
       "      <td>...</td>\n",
       "      <td>4</td>\n",
       "      <td>3</td>\n",
       "      <td>2</td>\n",
       "      <td>1</td>\n",
       "      <td>2</td>\n",
       "      <td>5</td>\n",
       "      <td>4</td>\n",
       "      <td>6</td>\n",
       "      <td>10</td>\n",
       "      <td>10</td>\n",
       "    </tr>\n",
       "  </tbody>\n",
       "</table>\n",
       "<p>5 rows × 33 columns</p>\n",
       "</div>"
      ],
      "text/plain": [
       "  school sex  age address famsize Pstatus  Medu  Fedu     Mjob      Fjob  ...  \\\n",
       "0     GP   F   18       U     GT3       A     4     4  at_home   teacher  ...   \n",
       "1     GP   F   17       U     GT3       T     1     1  at_home     other  ...   \n",
       "2     GP   F   15       U     LE3       T     1     1  at_home     other  ...   \n",
       "3     GP   F   15       U     GT3       T     4     2   health  services  ...   \n",
       "4     GP   F   16       U     GT3       T     3     3    other     other  ...   \n",
       "\n",
       "  famrel freetime  goout  Dalc  Walc health absences  G1  G2  G3  \n",
       "0      4        3      4     1     1      3        6   5   6   6  \n",
       "1      5        3      3     1     1      3        4   5   5   6  \n",
       "2      4        3      2     2     3      3       10   7   8  10  \n",
       "3      3        2      2     1     1      5        2  15  14  15  \n",
       "4      4        3      2     1     2      5        4   6  10  10  \n",
       "\n",
       "[5 rows x 33 columns]"
      ]
     },
     "execution_count": 19,
     "metadata": {},
     "output_type": "execute_result"
    }
   ],
   "source": [
    "df.head()"
   ]
  },
  {
   "cell_type": "code",
   "execution_count": 20,
   "id": "9055c837",
   "metadata": {},
   "outputs": [
    {
     "data": {
      "text/plain": [
       "395"
      ]
     },
     "execution_count": 20,
     "metadata": {},
     "output_type": "execute_result"
    }
   ],
   "source": [
    "len(df)"
   ]
  },
  {
   "cell_type": "code",
   "execution_count": 21,
   "id": "41d4155c",
   "metadata": {},
   "outputs": [
    {
     "data": {
      "text/plain": [
       "Index(['school', 'sex', 'age', 'address', 'famsize', 'Pstatus', 'Medu', 'Fedu',\n",
       "       'Mjob', 'Fjob', 'reason', 'guardian', 'traveltime', 'studytime',\n",
       "       'failures', 'schoolsup', 'famsup', 'paid', 'activities', 'nursery',\n",
       "       'higher', 'internet', 'romantic', 'famrel', 'freetime', 'goout', 'Dalc',\n",
       "       'Walc', 'health', 'absences', 'G1', 'G2', 'G3'],\n",
       "      dtype='object')"
      ]
     },
     "execution_count": 21,
     "metadata": {},
     "output_type": "execute_result"
    }
   ],
   "source": [
    "df.columns"
   ]
  },
  {
   "cell_type": "code",
   "execution_count": 22,
   "id": "e23b0f7b",
   "metadata": {},
   "outputs": [
    {
     "name": "stdout",
     "output_type": "stream",
     "text": [
      "20\n",
      "0\n"
     ]
    }
   ],
   "source": [
    "print(df['G3'].max())\n",
    "print(df['G3'].min())"
   ]
  },
  {
   "cell_type": "code",
   "execution_count": 23,
   "id": "7deb5a9f",
   "metadata": {},
   "outputs": [],
   "source": [
    "df['grade_A'] = np.where(df['G3']*5 >= 80, 1, 0)"
   ]
  },
  {
   "cell_type": "code",
   "execution_count": 24,
   "id": "6a42550e",
   "metadata": {},
   "outputs": [],
   "source": [
    "df['high_absences'] = np.where(df['absences'] >= 10, 1, 0)"
   ]
  },
  {
   "cell_type": "code",
   "execution_count": 25,
   "id": "3a3cab4e",
   "metadata": {},
   "outputs": [
    {
     "data": {
      "text/html": [
       "<div>\n",
       "<style scoped>\n",
       "    .dataframe tbody tr th:only-of-type {\n",
       "        vertical-align: middle;\n",
       "    }\n",
       "\n",
       "    .dataframe tbody tr th {\n",
       "        vertical-align: top;\n",
       "    }\n",
       "\n",
       "    .dataframe thead th {\n",
       "        text-align: right;\n",
       "    }\n",
       "</style>\n",
       "<table border=\"1\" class=\"dataframe\">\n",
       "  <thead>\n",
       "    <tr style=\"text-align: right;\">\n",
       "      <th></th>\n",
       "      <th>school</th>\n",
       "      <th>sex</th>\n",
       "      <th>age</th>\n",
       "      <th>address</th>\n",
       "      <th>famsize</th>\n",
       "      <th>Pstatus</th>\n",
       "      <th>Medu</th>\n",
       "      <th>Fedu</th>\n",
       "      <th>Mjob</th>\n",
       "      <th>Fjob</th>\n",
       "      <th>...</th>\n",
       "      <th>goout</th>\n",
       "      <th>Dalc</th>\n",
       "      <th>Walc</th>\n",
       "      <th>health</th>\n",
       "      <th>absences</th>\n",
       "      <th>G1</th>\n",
       "      <th>G2</th>\n",
       "      <th>G3</th>\n",
       "      <th>grade_A</th>\n",
       "      <th>high_absences</th>\n",
       "    </tr>\n",
       "  </thead>\n",
       "  <tbody>\n",
       "    <tr>\n",
       "      <th>0</th>\n",
       "      <td>GP</td>\n",
       "      <td>F</td>\n",
       "      <td>18</td>\n",
       "      <td>U</td>\n",
       "      <td>GT3</td>\n",
       "      <td>A</td>\n",
       "      <td>4</td>\n",
       "      <td>4</td>\n",
       "      <td>at_home</td>\n",
       "      <td>teacher</td>\n",
       "      <td>...</td>\n",
       "      <td>4</td>\n",
       "      <td>1</td>\n",
       "      <td>1</td>\n",
       "      <td>3</td>\n",
       "      <td>6</td>\n",
       "      <td>5</td>\n",
       "      <td>6</td>\n",
       "      <td>6</td>\n",
       "      <td>0</td>\n",
       "      <td>0</td>\n",
       "    </tr>\n",
       "    <tr>\n",
       "      <th>1</th>\n",
       "      <td>GP</td>\n",
       "      <td>F</td>\n",
       "      <td>17</td>\n",
       "      <td>U</td>\n",
       "      <td>GT3</td>\n",
       "      <td>T</td>\n",
       "      <td>1</td>\n",
       "      <td>1</td>\n",
       "      <td>at_home</td>\n",
       "      <td>other</td>\n",
       "      <td>...</td>\n",
       "      <td>3</td>\n",
       "      <td>1</td>\n",
       "      <td>1</td>\n",
       "      <td>3</td>\n",
       "      <td>4</td>\n",
       "      <td>5</td>\n",
       "      <td>5</td>\n",
       "      <td>6</td>\n",
       "      <td>0</td>\n",
       "      <td>0</td>\n",
       "    </tr>\n",
       "    <tr>\n",
       "      <th>2</th>\n",
       "      <td>GP</td>\n",
       "      <td>F</td>\n",
       "      <td>15</td>\n",
       "      <td>U</td>\n",
       "      <td>LE3</td>\n",
       "      <td>T</td>\n",
       "      <td>1</td>\n",
       "      <td>1</td>\n",
       "      <td>at_home</td>\n",
       "      <td>other</td>\n",
       "      <td>...</td>\n",
       "      <td>2</td>\n",
       "      <td>2</td>\n",
       "      <td>3</td>\n",
       "      <td>3</td>\n",
       "      <td>10</td>\n",
       "      <td>7</td>\n",
       "      <td>8</td>\n",
       "      <td>10</td>\n",
       "      <td>0</td>\n",
       "      <td>1</td>\n",
       "    </tr>\n",
       "    <tr>\n",
       "      <th>3</th>\n",
       "      <td>GP</td>\n",
       "      <td>F</td>\n",
       "      <td>15</td>\n",
       "      <td>U</td>\n",
       "      <td>GT3</td>\n",
       "      <td>T</td>\n",
       "      <td>4</td>\n",
       "      <td>2</td>\n",
       "      <td>health</td>\n",
       "      <td>services</td>\n",
       "      <td>...</td>\n",
       "      <td>2</td>\n",
       "      <td>1</td>\n",
       "      <td>1</td>\n",
       "      <td>5</td>\n",
       "      <td>2</td>\n",
       "      <td>15</td>\n",
       "      <td>14</td>\n",
       "      <td>15</td>\n",
       "      <td>0</td>\n",
       "      <td>0</td>\n",
       "    </tr>\n",
       "    <tr>\n",
       "      <th>4</th>\n",
       "      <td>GP</td>\n",
       "      <td>F</td>\n",
       "      <td>16</td>\n",
       "      <td>U</td>\n",
       "      <td>GT3</td>\n",
       "      <td>T</td>\n",
       "      <td>3</td>\n",
       "      <td>3</td>\n",
       "      <td>other</td>\n",
       "      <td>other</td>\n",
       "      <td>...</td>\n",
       "      <td>2</td>\n",
       "      <td>1</td>\n",
       "      <td>2</td>\n",
       "      <td>5</td>\n",
       "      <td>4</td>\n",
       "      <td>6</td>\n",
       "      <td>10</td>\n",
       "      <td>10</td>\n",
       "      <td>0</td>\n",
       "      <td>0</td>\n",
       "    </tr>\n",
       "  </tbody>\n",
       "</table>\n",
       "<p>5 rows × 35 columns</p>\n",
       "</div>"
      ],
      "text/plain": [
       "  school sex  age address famsize Pstatus  Medu  Fedu     Mjob      Fjob  ...  \\\n",
       "0     GP   F   18       U     GT3       A     4     4  at_home   teacher  ...   \n",
       "1     GP   F   17       U     GT3       T     1     1  at_home     other  ...   \n",
       "2     GP   F   15       U     LE3       T     1     1  at_home     other  ...   \n",
       "3     GP   F   15       U     GT3       T     4     2   health  services  ...   \n",
       "4     GP   F   16       U     GT3       T     3     3    other     other  ...   \n",
       "\n",
       "  goout Dalc  Walc  health  absences  G1  G2  G3 grade_A high_absences  \n",
       "0     4    1     1       3         6   5   6   6       0             0  \n",
       "1     3    1     1       3         4   5   5   6       0             0  \n",
       "2     2    2     3       3        10   7   8  10       0             1  \n",
       "3     2    1     1       5         2  15  14  15       0             0  \n",
       "4     2    1     2       5         4   6  10  10       0             0  \n",
       "\n",
       "[5 rows x 35 columns]"
      ]
     },
     "execution_count": 25,
     "metadata": {},
     "output_type": "execute_result"
    }
   ],
   "source": [
    "df.head()"
   ]
  },
  {
   "cell_type": "code",
   "execution_count": 26,
   "id": "1282fdcc",
   "metadata": {},
   "outputs": [],
   "source": [
    "df['count'] = 1"
   ]
  },
  {
   "cell_type": "code",
   "execution_count": 27,
   "id": "86c4eddc",
   "metadata": {},
   "outputs": [
    {
     "data": {
      "text/html": [
       "<div>\n",
       "<style scoped>\n",
       "    .dataframe tbody tr th:only-of-type {\n",
       "        vertical-align: middle;\n",
       "    }\n",
       "\n",
       "    .dataframe tbody tr th {\n",
       "        vertical-align: top;\n",
       "    }\n",
       "\n",
       "    .dataframe thead th {\n",
       "        text-align: right;\n",
       "    }\n",
       "</style>\n",
       "<table border=\"1\" class=\"dataframe\">\n",
       "  <thead>\n",
       "    <tr style=\"text-align: right;\">\n",
       "      <th></th>\n",
       "      <th>grade_A</th>\n",
       "      <th>high_absences</th>\n",
       "      <th>count</th>\n",
       "    </tr>\n",
       "  </thead>\n",
       "  <tbody>\n",
       "    <tr>\n",
       "      <th>0</th>\n",
       "      <td>0</td>\n",
       "      <td>0</td>\n",
       "      <td>1</td>\n",
       "    </tr>\n",
       "    <tr>\n",
       "      <th>1</th>\n",
       "      <td>0</td>\n",
       "      <td>0</td>\n",
       "      <td>1</td>\n",
       "    </tr>\n",
       "    <tr>\n",
       "      <th>2</th>\n",
       "      <td>0</td>\n",
       "      <td>1</td>\n",
       "      <td>1</td>\n",
       "    </tr>\n",
       "    <tr>\n",
       "      <th>3</th>\n",
       "      <td>0</td>\n",
       "      <td>0</td>\n",
       "      <td>1</td>\n",
       "    </tr>\n",
       "    <tr>\n",
       "      <th>4</th>\n",
       "      <td>0</td>\n",
       "      <td>0</td>\n",
       "      <td>1</td>\n",
       "    </tr>\n",
       "  </tbody>\n",
       "</table>\n",
       "</div>"
      ],
      "text/plain": [
       "   grade_A  high_absences  count\n",
       "0        0              0      1\n",
       "1        0              0      1\n",
       "2        0              1      1\n",
       "3        0              0      1\n",
       "4        0              0      1"
      ]
     },
     "execution_count": 27,
     "metadata": {},
     "output_type": "execute_result"
    }
   ],
   "source": [
    "df = df[['grade_A', 'high_absences', 'count']]\n",
    "df.head()"
   ]
  },
  {
   "cell_type": "code",
   "execution_count": 28,
   "id": "b30ebd58",
   "metadata": {},
   "outputs": [],
   "source": [
    "final = pd.pivot_table(\n",
    "df, \n",
    "values='count', \n",
    "index=['grade_A'],\n",
    "columns=['high_absences'],\n",
    "aggfunc=np.size,\n",
    "fill_value=0)"
   ]
  },
  {
   "cell_type": "code",
   "execution_count": 29,
   "id": "3e48ebac",
   "metadata": {},
   "outputs": [
    {
     "data": {
      "text/html": [
       "<div>\n",
       "<style scoped>\n",
       "    .dataframe tbody tr th:only-of-type {\n",
       "        vertical-align: middle;\n",
       "    }\n",
       "\n",
       "    .dataframe tbody tr th {\n",
       "        vertical-align: top;\n",
       "    }\n",
       "\n",
       "    .dataframe thead th {\n",
       "        text-align: right;\n",
       "    }\n",
       "</style>\n",
       "<table border=\"1\" class=\"dataframe\">\n",
       "  <thead>\n",
       "    <tr style=\"text-align: right;\">\n",
       "      <th>high_absences</th>\n",
       "      <th>0</th>\n",
       "      <th>1</th>\n",
       "    </tr>\n",
       "    <tr>\n",
       "      <th>grade_A</th>\n",
       "      <th></th>\n",
       "      <th></th>\n",
       "    </tr>\n",
       "  </thead>\n",
       "  <tbody>\n",
       "    <tr>\n",
       "      <th>0</th>\n",
       "      <td>277</td>\n",
       "      <td>78</td>\n",
       "    </tr>\n",
       "    <tr>\n",
       "      <th>1</th>\n",
       "      <td>35</td>\n",
       "      <td>5</td>\n",
       "    </tr>\n",
       "  </tbody>\n",
       "</table>\n",
       "</div>"
      ],
      "text/plain": [
       "high_absences    0   1\n",
       "grade_A               \n",
       "0              277  78\n",
       "1               35   5"
      ]
     },
     "execution_count": 29,
     "metadata": {},
     "output_type": "execute_result"
    }
   ],
   "source": [
    "final"
   ]
  },
  {
   "cell_type": "code",
   "execution_count": 37,
   "id": "9102cea8",
   "metadata": {},
   "outputs": [
    {
     "name": "stdout",
     "output_type": "stream",
     "text": [
      "The probability of getting at least an 80% final grade, given missing 10 or more classes is  0.06\n"
     ]
    }
   ],
   "source": [
    "# Calculate the probability the student will get grade A given that missing 10 or more classes\n",
    "\n",
    "P_A = (35+5)/(277+78+35+5) \n",
    "P_B = (78+5)/(277+78+35+5) \n",
    "P_A_or_B = 5/ (277+78+35+5) \n",
    "\n",
    "P_A_given_B = P_A_or_B / P_B\n",
    "\n",
    "print('The probability of getting at least an 80% final grade, given missing 10 or more classes is ', round(P_A_given_B, 2))"
   ]
  },
  {
   "cell_type": "markdown",
   "id": "99a3ff61",
   "metadata": {},
   "source": [
    "# Combinatorics"
   ]
  },
  {
   "cell_type": "code",
   "execution_count": 38,
   "id": "f6e58ce5",
   "metadata": {},
   "outputs": [
    {
     "data": {
      "text/plain": [
       "[('g', 'g'), ('g', 'b'), ('b', 'g'), ('b', 'b')]"
      ]
     },
     "execution_count": 38,
     "metadata": {},
     "output_type": "execute_result"
    }
   ],
   "source": [
    "# With repetition\n",
    "import itertools\n",
    "from itertools import product\n",
    "box_1 = ['g', 'b']\n",
    "perm=[]\n",
    "for p in itertools.product(box_1, repeat=2):\n",
    "    perm.append(p)\n",
    "perm"
   ]
  },
  {
   "cell_type": "code",
   "execution_count": 39,
   "id": "969d0815",
   "metadata": {},
   "outputs": [
    {
     "data": {
      "text/plain": [
       "[('g', 'g', 'g'),\n",
       " ('g', 'g', 'b'),\n",
       " ('g', 'g', 'y'),\n",
       " ('g', 'b', 'g'),\n",
       " ('g', 'b', 'b'),\n",
       " ('g', 'b', 'y'),\n",
       " ('g', 'y', 'g'),\n",
       " ('g', 'y', 'b'),\n",
       " ('g', 'y', 'y'),\n",
       " ('b', 'g', 'g'),\n",
       " ('b', 'g', 'b'),\n",
       " ('b', 'g', 'y'),\n",
       " ('b', 'b', 'g'),\n",
       " ('b', 'b', 'b'),\n",
       " ('b', 'b', 'y'),\n",
       " ('b', 'y', 'g'),\n",
       " ('b', 'y', 'b'),\n",
       " ('b', 'y', 'y'),\n",
       " ('y', 'g', 'g'),\n",
       " ('y', 'g', 'b'),\n",
       " ('y', 'g', 'y'),\n",
       " ('y', 'b', 'g'),\n",
       " ('y', 'b', 'b'),\n",
       " ('y', 'b', 'y'),\n",
       " ('y', 'y', 'g'),\n",
       " ('y', 'y', 'b'),\n",
       " ('y', 'y', 'y')]"
      ]
     },
     "execution_count": 39,
     "metadata": {},
     "output_type": "execute_result"
    }
   ],
   "source": [
    "# With repetition\n",
    "import itertools\n",
    "from itertools import product\n",
    "box_2 = ['g', 'b', 'y']\n",
    "perm=[]\n",
    "for p in itertools.product(box_2, repeat=3):\n",
    "    perm.append(p)\n",
    "perm"
   ]
  },
  {
   "cell_type": "code",
   "execution_count": 40,
   "id": "f8f8cda3",
   "metadata": {},
   "outputs": [
    {
     "name": "stdout",
     "output_type": "stream",
     "text": [
      "('g', 'b')\n",
      "('b', 'g')\n"
     ]
    }
   ],
   "source": [
    "# Without repetition\n",
    "import itertools\n",
    "box_3 = ['g', 'b']\n",
    "perm = itertools.permutations(box_3)\n",
    "\n",
    "for i in list(perm):\n",
    "    print(i)"
   ]
  },
  {
   "cell_type": "code",
   "execution_count": 41,
   "id": "7d3e79c0",
   "metadata": {},
   "outputs": [
    {
     "name": "stdout",
     "output_type": "stream",
     "text": [
      "('g', 'b', 'y')\n",
      "('g', 'y', 'b')\n",
      "('b', 'g', 'y')\n",
      "('b', 'y', 'g')\n",
      "('y', 'g', 'b')\n",
      "('y', 'b', 'g')\n"
     ]
    }
   ],
   "source": [
    "import itertools\n",
    "box_4 = ['g', 'b', 'y']\n",
    "perm = itertools.permutations(box_4)\n",
    "\n",
    "for i in list(perm):\n",
    "    print(i)"
   ]
  },
  {
   "cell_type": "markdown",
   "id": "dd8e4f62",
   "metadata": {},
   "source": [
    "# Variation"
   ]
  },
  {
   "cell_type": "code",
   "execution_count": 42,
   "id": "417f3aaa",
   "metadata": {},
   "outputs": [],
   "source": [
    "# with repetition"
   ]
  },
  {
   "cell_type": "code",
   "execution_count": 43,
   "id": "07e15f78",
   "metadata": {},
   "outputs": [
    {
     "data": {
      "text/plain": [
       "[('g', 'g'),\n",
       " ('g', 'b'),\n",
       " ('g', 'y'),\n",
       " ('b', 'g'),\n",
       " ('b', 'b'),\n",
       " ('b', 'y'),\n",
       " ('y', 'g'),\n",
       " ('y', 'b'),\n",
       " ('y', 'y')]"
      ]
     },
     "execution_count": 43,
     "metadata": {},
     "output_type": "execute_result"
    }
   ],
   "source": [
    "box_v = ['g', 'b', 'y']\n",
    "perm=[]\n",
    "for p in itertools.product(box_v, repeat=2):\n",
    "    perm.append(p)\n",
    "perm"
   ]
  },
  {
   "cell_type": "code",
   "execution_count": 45,
   "id": "76d305ef",
   "metadata": {},
   "outputs": [],
   "source": [
    "# without repetition"
   ]
  },
  {
   "cell_type": "code",
   "execution_count": 55,
   "id": "e911d2aa",
   "metadata": {},
   "outputs": [
    {
     "name": "stdout",
     "output_type": "stream",
     "text": [
      "('g', 'y')\n",
      "('g', 'r')\n",
      "('y', 'g')\n",
      "('y', 'r')\n",
      "('r', 'g')\n",
      "('r', 'y')\n"
     ]
    }
   ],
   "source": [
    "box_vwr = ['g', 'y', 'r']\n",
    "perm = itertools.permutations(box_vwr, 2)\n",
    "\n",
    "for i in list(perm):\n",
    "    print(i)"
   ]
  },
  {
   "cell_type": "markdown",
   "id": "9ea50893",
   "metadata": {},
   "source": [
    "# Combination\n"
   ]
  },
  {
   "cell_type": "raw",
   "id": "4496477f",
   "metadata": {},
   "source": [
    "# combination\n",
    "The number of possible combinations (with repetition) is given by\n",
    "C(n,k) = (n+k-1)!/k!(n-1)!"
   ]
  },
  {
   "cell_type": "code",
   "execution_count": 56,
   "id": "1cae36ff",
   "metadata": {},
   "outputs": [
    {
     "name": "stdout",
     "output_type": "stream",
     "text": [
      "('g', 'g')\n",
      "('g', 'b')\n",
      "('b', 'b')\n"
     ]
    }
   ],
   "source": [
    "# combination with repetition\n",
    "from itertools import combinations_with_replacement\n",
    "\n",
    "box_1 = ['g','b']\n",
    "comb = combinations_with_replacement(box_1, 2)\n",
    "for i in list(comb):\n",
    "    print(i)\n"
   ]
  },
  {
   "cell_type": "code",
   "execution_count": 57,
   "id": "864d3187",
   "metadata": {},
   "outputs": [
    {
     "name": "stdout",
     "output_type": "stream",
     "text": [
      "('g', 'g')\n",
      "('g', 'b')\n",
      "('g', 'r')\n",
      "('g', 'y')\n",
      "('b', 'b')\n",
      "('b', 'r')\n",
      "('b', 'y')\n",
      "('r', 'r')\n",
      "('r', 'y')\n",
      "('y', 'y')\n"
     ]
    }
   ],
   "source": [
    "# combination with repetition\n",
    "from itertools import combinations_with_replacement\n",
    "\n",
    "box_1 = ['g','b', 'r', 'y']\n",
    "comb = combinations_with_replacement(box_1, 2)\n",
    "for i in list(comb):\n",
    "    print(i)\n"
   ]
  },
  {
   "cell_type": "code",
   "execution_count": 58,
   "id": "dfaec14e",
   "metadata": {},
   "outputs": [],
   "source": [
    "# combination without repetition\n",
    "# C(n,k) = n!/k!(n-k)!"
   ]
  },
  {
   "cell_type": "code",
   "execution_count": 51,
   "id": "da5332ce",
   "metadata": {},
   "outputs": [
    {
     "name": "stdout",
     "output_type": "stream",
     "text": [
      "('b', 'g')\n",
      "('b', 'y')\n",
      "('g', 'y')\n"
     ]
    }
   ],
   "source": [
    "from itertools import combinations\n",
    "box_1 = ['b', 'g', 'y']\n",
    "comb = combinations(box_1,2)\n",
    "\n",
    "for i in list(comb):\n",
    "    print(i)"
   ]
  },
  {
   "cell_type": "code",
   "execution_count": null,
   "id": "16e697f1",
   "metadata": {},
   "outputs": [],
   "source": []
  },
  {
   "cell_type": "code",
   "execution_count": null,
   "id": "4d31ecb6",
   "metadata": {},
   "outputs": [],
   "source": []
  },
  {
   "cell_type": "code",
   "execution_count": null,
   "id": "4ca860ec",
   "metadata": {},
   "outputs": [],
   "source": []
  }
 ],
 "metadata": {
  "kernelspec": {
   "display_name": "Python 3",
   "language": "python",
   "name": "python3"
  },
  "language_info": {
   "codemirror_mode": {
    "name": "ipython",
    "version": 3
   },
   "file_extension": ".py",
   "mimetype": "text/x-python",
   "name": "python",
   "nbconvert_exporter": "python",
   "pygments_lexer": "ipython3",
   "version": "3.8.8"
  }
 },
 "nbformat": 4,
 "nbformat_minor": 5
}
