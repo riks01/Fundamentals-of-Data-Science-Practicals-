{
 "cells": [
  {
   "cell_type": "code",
   "execution_count": 3,
   "id": "2de4d349",
   "metadata": {},
   "outputs": [
    {
     "name": "stdout",
     "output_type": "stream",
     "text": [
      "The probability of email being spam if it contains word congratulations is 47.872%\n"
     ]
    }
   ],
   "source": [
    "# calculate P(spam/congr) given P(spam) = 0.3% , P(not spam) = 0.7%  P(congr/spam) = 0.75%, P(congr/not spam= 35%)\n",
    "def bayes_law(p_s, p_c_given_s, p_c_given_not_s):\n",
    "    #calculate p(not Spam)\n",
    "    not_s = 1- p_s\n",
    "    \n",
    "    #calculate P(congratulations)\n",
    "    p_c = p_c_given_s * p_s + p_c_given_not_s * not_s\n",
    "    \n",
    "    #calculate P(spam/congratulations)\n",
    "    p_s_given_c = (p_c_given_s * p_s) / p_c\n",
    "    \n",
    "    return p_s_given_c\n",
    "\n",
    "p_s = 0.30\n",
    "p_c_given_s = 0.75\n",
    "p_c_given_not_s = 0.35\n",
    "\n",
    "result = bayes_law(p_s, p_c_given_s, p_c_given_not_s)\n",
    "print('The probability of email being spam if it contains word congratulations is %.3f%%'% (result*100))"
   ]
  }
 ],
 "metadata": {
  "kernelspec": {
   "display_name": "Python 3",
   "language": "python",
   "name": "python3"
  },
  "language_info": {
   "codemirror_mode": {
    "name": "ipython",
    "version": 3
   },
   "file_extension": ".py",
   "mimetype": "text/x-python",
   "name": "python",
   "nbconvert_exporter": "python",
   "pygments_lexer": "ipython3",
   "version": "3.8.8"
  }
 },
 "nbformat": 4,
 "nbformat_minor": 5
}
